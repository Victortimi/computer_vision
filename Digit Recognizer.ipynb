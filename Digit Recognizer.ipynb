{
  "nbformat": 4,
  "nbformat_minor": 0,
  "metadata": {
    "colab": {
      "provenance": []
    },
    "kernelspec": {
      "name": "python3",
      "display_name": "Python 3"
    },
    "language_info": {
      "name": "python"
    }
  },
  "cells": [
    {
      "cell_type": "markdown",
      "source": [
        "#<font color='cyan'>Description of Dataset</font>\n",
        "> <font color='violet'> The data files train.csv and test.csv contain gray-scale images of hand-drawn digits, from zero through nine.\n",
        "The training data set, (train.csv), has 785 columns. The first column, called \"label\", is the digit that was drawn by the user. The rest of the columns contain the pixel-values of the associated image.\n",
        "The test data set, (test.csv), is the same as the training set, except that it does not contain the \"label\" column.</font>\n",
        "\n",
        "> <font color='violet'>The size of train.csv is 75Mb,and shape of 42,000 X 785, while test.csv is 50Mb and shape of 28,000 X 784 </font>\n",
        "\n",
        "><font color='violet'>EMPHASIS: The target is the column called \"label\" which is found in train.csv. It is not present in test.csv as it is to be predicted on test dataset.</font>\n",
        "\n",
        "<font color='violet'>No missing data or duplicates</font>\n",
        "\n"
      ],
      "metadata": {
        "id": "wI6BiB_Vvzta"
      }
    },
    {
      "cell_type": "markdown",
      "source": [
        "#<font color='cyan'>Digit Recognizer Exercise</font>\n"
      ],
      "metadata": {
        "id": "ejRKDYvZTt3z"
      }
    },
    {
      "cell_type": "markdown",
      "source": [
        "##<font color='cyan'>Loading the Datasets</font>"
      ],
      "metadata": {
        "id": "dqHP0Zgzixhz"
      }
    },
    {
      "cell_type": "code",
      "execution_count": null,
      "metadata": {
        "id": "ezx23n3ZSk2u"
      },
      "outputs": [],
      "source": [
        "import tensorflow as tf\n",
        "import pandas as pd\n",
        "\n",
        "dig_train = pd.read_csv('/content/drive/MyDrive/digit_recognizer/train.csv')\n",
        "dig_test = pd.read_csv('/content/drive/MyDrive/digit_recognizer/test.csv')\n"
      ]
    },
    {
      "cell_type": "code",
      "source": [
        "dig_train.head()"
      ],
      "metadata": {
        "colab": {
          "base_uri": "https://localhost:8080/",
          "height": 255
        },
        "id": "uaaknBc-y1E4",
        "outputId": "48f108d3-35cf-497d-b485-d7939c943e7a"
      },
      "execution_count": null,
      "outputs": [
        {
          "output_type": "execute_result",
          "data": {
            "text/plain": [
              "   label  pixel0  pixel1  pixel2  pixel3  pixel4  pixel5  pixel6  pixel7  \\\n",
              "0      1       0       0       0       0       0       0       0       0   \n",
              "1      0       0       0       0       0       0       0       0       0   \n",
              "2      1       0       0       0       0       0       0       0       0   \n",
              "3      4       0       0       0       0       0       0       0       0   \n",
              "4      0       0       0       0       0       0       0       0       0   \n",
              "\n",
              "   pixel8  ...  pixel774  pixel775  pixel776  pixel777  pixel778  pixel779  \\\n",
              "0       0  ...         0         0         0         0         0         0   \n",
              "1       0  ...         0         0         0         0         0         0   \n",
              "2       0  ...         0         0         0         0         0         0   \n",
              "3       0  ...         0         0         0         0         0         0   \n",
              "4       0  ...         0         0         0         0         0         0   \n",
              "\n",
              "   pixel780  pixel781  pixel782  pixel783  \n",
              "0         0         0         0         0  \n",
              "1         0         0         0         0  \n",
              "2         0         0         0         0  \n",
              "3         0         0         0         0  \n",
              "4         0         0         0         0  \n",
              "\n",
              "[5 rows x 785 columns]"
            ],
            "text/html": [
              "\n",
              "  <div id=\"df-b8fff7d7-4acc-4e53-b0a9-17a478ab531e\" class=\"colab-df-container\">\n",
              "    <div>\n",
              "<style scoped>\n",
              "    .dataframe tbody tr th:only-of-type {\n",
              "        vertical-align: middle;\n",
              "    }\n",
              "\n",
              "    .dataframe tbody tr th {\n",
              "        vertical-align: top;\n",
              "    }\n",
              "\n",
              "    .dataframe thead th {\n",
              "        text-align: right;\n",
              "    }\n",
              "</style>\n",
              "<table border=\"1\" class=\"dataframe\">\n",
              "  <thead>\n",
              "    <tr style=\"text-align: right;\">\n",
              "      <th></th>\n",
              "      <th>label</th>\n",
              "      <th>pixel0</th>\n",
              "      <th>pixel1</th>\n",
              "      <th>pixel2</th>\n",
              "      <th>pixel3</th>\n",
              "      <th>pixel4</th>\n",
              "      <th>pixel5</th>\n",
              "      <th>pixel6</th>\n",
              "      <th>pixel7</th>\n",
              "      <th>pixel8</th>\n",
              "      <th>...</th>\n",
              "      <th>pixel774</th>\n",
              "      <th>pixel775</th>\n",
              "      <th>pixel776</th>\n",
              "      <th>pixel777</th>\n",
              "      <th>pixel778</th>\n",
              "      <th>pixel779</th>\n",
              "      <th>pixel780</th>\n",
              "      <th>pixel781</th>\n",
              "      <th>pixel782</th>\n",
              "      <th>pixel783</th>\n",
              "    </tr>\n",
              "  </thead>\n",
              "  <tbody>\n",
              "    <tr>\n",
              "      <th>0</th>\n",
              "      <td>1</td>\n",
              "      <td>0</td>\n",
              "      <td>0</td>\n",
              "      <td>0</td>\n",
              "      <td>0</td>\n",
              "      <td>0</td>\n",
              "      <td>0</td>\n",
              "      <td>0</td>\n",
              "      <td>0</td>\n",
              "      <td>0</td>\n",
              "      <td>...</td>\n",
              "      <td>0</td>\n",
              "      <td>0</td>\n",
              "      <td>0</td>\n",
              "      <td>0</td>\n",
              "      <td>0</td>\n",
              "      <td>0</td>\n",
              "      <td>0</td>\n",
              "      <td>0</td>\n",
              "      <td>0</td>\n",
              "      <td>0</td>\n",
              "    </tr>\n",
              "    <tr>\n",
              "      <th>1</th>\n",
              "      <td>0</td>\n",
              "      <td>0</td>\n",
              "      <td>0</td>\n",
              "      <td>0</td>\n",
              "      <td>0</td>\n",
              "      <td>0</td>\n",
              "      <td>0</td>\n",
              "      <td>0</td>\n",
              "      <td>0</td>\n",
              "      <td>0</td>\n",
              "      <td>...</td>\n",
              "      <td>0</td>\n",
              "      <td>0</td>\n",
              "      <td>0</td>\n",
              "      <td>0</td>\n",
              "      <td>0</td>\n",
              "      <td>0</td>\n",
              "      <td>0</td>\n",
              "      <td>0</td>\n",
              "      <td>0</td>\n",
              "      <td>0</td>\n",
              "    </tr>\n",
              "    <tr>\n",
              "      <th>2</th>\n",
              "      <td>1</td>\n",
              "      <td>0</td>\n",
              "      <td>0</td>\n",
              "      <td>0</td>\n",
              "      <td>0</td>\n",
              "      <td>0</td>\n",
              "      <td>0</td>\n",
              "      <td>0</td>\n",
              "      <td>0</td>\n",
              "      <td>0</td>\n",
              "      <td>...</td>\n",
              "      <td>0</td>\n",
              "      <td>0</td>\n",
              "      <td>0</td>\n",
              "      <td>0</td>\n",
              "      <td>0</td>\n",
              "      <td>0</td>\n",
              "      <td>0</td>\n",
              "      <td>0</td>\n",
              "      <td>0</td>\n",
              "      <td>0</td>\n",
              "    </tr>\n",
              "    <tr>\n",
              "      <th>3</th>\n",
              "      <td>4</td>\n",
              "      <td>0</td>\n",
              "      <td>0</td>\n",
              "      <td>0</td>\n",
              "      <td>0</td>\n",
              "      <td>0</td>\n",
              "      <td>0</td>\n",
              "      <td>0</td>\n",
              "      <td>0</td>\n",
              "      <td>0</td>\n",
              "      <td>...</td>\n",
              "      <td>0</td>\n",
              "      <td>0</td>\n",
              "      <td>0</td>\n",
              "      <td>0</td>\n",
              "      <td>0</td>\n",
              "      <td>0</td>\n",
              "      <td>0</td>\n",
              "      <td>0</td>\n",
              "      <td>0</td>\n",
              "      <td>0</td>\n",
              "    </tr>\n",
              "    <tr>\n",
              "      <th>4</th>\n",
              "      <td>0</td>\n",
              "      <td>0</td>\n",
              "      <td>0</td>\n",
              "      <td>0</td>\n",
              "      <td>0</td>\n",
              "      <td>0</td>\n",
              "      <td>0</td>\n",
              "      <td>0</td>\n",
              "      <td>0</td>\n",
              "      <td>0</td>\n",
              "      <td>...</td>\n",
              "      <td>0</td>\n",
              "      <td>0</td>\n",
              "      <td>0</td>\n",
              "      <td>0</td>\n",
              "      <td>0</td>\n",
              "      <td>0</td>\n",
              "      <td>0</td>\n",
              "      <td>0</td>\n",
              "      <td>0</td>\n",
              "      <td>0</td>\n",
              "    </tr>\n",
              "  </tbody>\n",
              "</table>\n",
              "<p>5 rows × 785 columns</p>\n",
              "</div>\n",
              "    <div class=\"colab-df-buttons\">\n",
              "\n",
              "  <div class=\"colab-df-container\">\n",
              "    <button class=\"colab-df-convert\" onclick=\"convertToInteractive('df-b8fff7d7-4acc-4e53-b0a9-17a478ab531e')\"\n",
              "            title=\"Convert this dataframe to an interactive table.\"\n",
              "            style=\"display:none;\">\n",
              "\n",
              "  <svg xmlns=\"http://www.w3.org/2000/svg\" height=\"24px\" viewBox=\"0 -960 960 960\">\n",
              "    <path d=\"M120-120v-720h720v720H120Zm60-500h600v-160H180v160Zm220 220h160v-160H400v160Zm0 220h160v-160H400v160ZM180-400h160v-160H180v160Zm440 0h160v-160H620v160ZM180-180h160v-160H180v160Zm440 0h160v-160H620v160Z\"/>\n",
              "  </svg>\n",
              "    </button>\n",
              "\n",
              "  <style>\n",
              "    .colab-df-container {\n",
              "      display:flex;\n",
              "      gap: 12px;\n",
              "    }\n",
              "\n",
              "    .colab-df-convert {\n",
              "      background-color: #E8F0FE;\n",
              "      border: none;\n",
              "      border-radius: 50%;\n",
              "      cursor: pointer;\n",
              "      display: none;\n",
              "      fill: #1967D2;\n",
              "      height: 32px;\n",
              "      padding: 0 0 0 0;\n",
              "      width: 32px;\n",
              "    }\n",
              "\n",
              "    .colab-df-convert:hover {\n",
              "      background-color: #E2EBFA;\n",
              "      box-shadow: 0px 1px 2px rgba(60, 64, 67, 0.3), 0px 1px 3px 1px rgba(60, 64, 67, 0.15);\n",
              "      fill: #174EA6;\n",
              "    }\n",
              "\n",
              "    .colab-df-buttons div {\n",
              "      margin-bottom: 4px;\n",
              "    }\n",
              "\n",
              "    [theme=dark] .colab-df-convert {\n",
              "      background-color: #3B4455;\n",
              "      fill: #D2E3FC;\n",
              "    }\n",
              "\n",
              "    [theme=dark] .colab-df-convert:hover {\n",
              "      background-color: #434B5C;\n",
              "      box-shadow: 0px 1px 3px 1px rgba(0, 0, 0, 0.15);\n",
              "      filter: drop-shadow(0px 1px 2px rgba(0, 0, 0, 0.3));\n",
              "      fill: #FFFFFF;\n",
              "    }\n",
              "  </style>\n",
              "\n",
              "    <script>\n",
              "      const buttonEl =\n",
              "        document.querySelector('#df-b8fff7d7-4acc-4e53-b0a9-17a478ab531e button.colab-df-convert');\n",
              "      buttonEl.style.display =\n",
              "        google.colab.kernel.accessAllowed ? 'block' : 'none';\n",
              "\n",
              "      async function convertToInteractive(key) {\n",
              "        const element = document.querySelector('#df-b8fff7d7-4acc-4e53-b0a9-17a478ab531e');\n",
              "        const dataTable =\n",
              "          await google.colab.kernel.invokeFunction('convertToInteractive',\n",
              "                                                    [key], {});\n",
              "        if (!dataTable) return;\n",
              "\n",
              "        const docLinkHtml = 'Like what you see? Visit the ' +\n",
              "          '<a target=\"_blank\" href=https://colab.research.google.com/notebooks/data_table.ipynb>data table notebook</a>'\n",
              "          + ' to learn more about interactive tables.';\n",
              "        element.innerHTML = '';\n",
              "        dataTable['output_type'] = 'display_data';\n",
              "        await google.colab.output.renderOutput(dataTable, element);\n",
              "        const docLink = document.createElement('div');\n",
              "        docLink.innerHTML = docLinkHtml;\n",
              "        element.appendChild(docLink);\n",
              "      }\n",
              "    </script>\n",
              "  </div>\n",
              "\n",
              "\n",
              "<div id=\"df-daf73f9d-d196-43d2-8e7b-4df30ab1cba7\">\n",
              "  <button class=\"colab-df-quickchart\" onclick=\"quickchart('df-daf73f9d-d196-43d2-8e7b-4df30ab1cba7')\"\n",
              "            title=\"Suggest charts\"\n",
              "            style=\"display:none;\">\n",
              "\n",
              "<svg xmlns=\"http://www.w3.org/2000/svg\" height=\"24px\"viewBox=\"0 0 24 24\"\n",
              "     width=\"24px\">\n",
              "    <g>\n",
              "        <path d=\"M19 3H5c-1.1 0-2 .9-2 2v14c0 1.1.9 2 2 2h14c1.1 0 2-.9 2-2V5c0-1.1-.9-2-2-2zM9 17H7v-7h2v7zm4 0h-2V7h2v10zm4 0h-2v-4h2v4z\"/>\n",
              "    </g>\n",
              "</svg>\n",
              "  </button>\n",
              "\n",
              "<style>\n",
              "  .colab-df-quickchart {\n",
              "      --bg-color: #E8F0FE;\n",
              "      --fill-color: #1967D2;\n",
              "      --hover-bg-color: #E2EBFA;\n",
              "      --hover-fill-color: #174EA6;\n",
              "      --disabled-fill-color: #AAA;\n",
              "      --disabled-bg-color: #DDD;\n",
              "  }\n",
              "\n",
              "  [theme=dark] .colab-df-quickchart {\n",
              "      --bg-color: #3B4455;\n",
              "      --fill-color: #D2E3FC;\n",
              "      --hover-bg-color: #434B5C;\n",
              "      --hover-fill-color: #FFFFFF;\n",
              "      --disabled-bg-color: #3B4455;\n",
              "      --disabled-fill-color: #666;\n",
              "  }\n",
              "\n",
              "  .colab-df-quickchart {\n",
              "    background-color: var(--bg-color);\n",
              "    border: none;\n",
              "    border-radius: 50%;\n",
              "    cursor: pointer;\n",
              "    display: none;\n",
              "    fill: var(--fill-color);\n",
              "    height: 32px;\n",
              "    padding: 0;\n",
              "    width: 32px;\n",
              "  }\n",
              "\n",
              "  .colab-df-quickchart:hover {\n",
              "    background-color: var(--hover-bg-color);\n",
              "    box-shadow: 0 1px 2px rgba(60, 64, 67, 0.3), 0 1px 3px 1px rgba(60, 64, 67, 0.15);\n",
              "    fill: var(--button-hover-fill-color);\n",
              "  }\n",
              "\n",
              "  .colab-df-quickchart-complete:disabled,\n",
              "  .colab-df-quickchart-complete:disabled:hover {\n",
              "    background-color: var(--disabled-bg-color);\n",
              "    fill: var(--disabled-fill-color);\n",
              "    box-shadow: none;\n",
              "  }\n",
              "\n",
              "  .colab-df-spinner {\n",
              "    border: 2px solid var(--fill-color);\n",
              "    border-color: transparent;\n",
              "    border-bottom-color: var(--fill-color);\n",
              "    animation:\n",
              "      spin 1s steps(1) infinite;\n",
              "  }\n",
              "\n",
              "  @keyframes spin {\n",
              "    0% {\n",
              "      border-color: transparent;\n",
              "      border-bottom-color: var(--fill-color);\n",
              "      border-left-color: var(--fill-color);\n",
              "    }\n",
              "    20% {\n",
              "      border-color: transparent;\n",
              "      border-left-color: var(--fill-color);\n",
              "      border-top-color: var(--fill-color);\n",
              "    }\n",
              "    30% {\n",
              "      border-color: transparent;\n",
              "      border-left-color: var(--fill-color);\n",
              "      border-top-color: var(--fill-color);\n",
              "      border-right-color: var(--fill-color);\n",
              "    }\n",
              "    40% {\n",
              "      border-color: transparent;\n",
              "      border-right-color: var(--fill-color);\n",
              "      border-top-color: var(--fill-color);\n",
              "    }\n",
              "    60% {\n",
              "      border-color: transparent;\n",
              "      border-right-color: var(--fill-color);\n",
              "    }\n",
              "    80% {\n",
              "      border-color: transparent;\n",
              "      border-right-color: var(--fill-color);\n",
              "      border-bottom-color: var(--fill-color);\n",
              "    }\n",
              "    90% {\n",
              "      border-color: transparent;\n",
              "      border-bottom-color: var(--fill-color);\n",
              "    }\n",
              "  }\n",
              "</style>\n",
              "\n",
              "  <script>\n",
              "    async function quickchart(key) {\n",
              "      const quickchartButtonEl =\n",
              "        document.querySelector('#' + key + ' button');\n",
              "      quickchartButtonEl.disabled = true;  // To prevent multiple clicks.\n",
              "      quickchartButtonEl.classList.add('colab-df-spinner');\n",
              "      try {\n",
              "        const charts = await google.colab.kernel.invokeFunction(\n",
              "            'suggestCharts', [key], {});\n",
              "      } catch (error) {\n",
              "        console.error('Error during call to suggestCharts:', error);\n",
              "      }\n",
              "      quickchartButtonEl.classList.remove('colab-df-spinner');\n",
              "      quickchartButtonEl.classList.add('colab-df-quickchart-complete');\n",
              "    }\n",
              "    (() => {\n",
              "      let quickchartButtonEl =\n",
              "        document.querySelector('#df-daf73f9d-d196-43d2-8e7b-4df30ab1cba7 button');\n",
              "      quickchartButtonEl.style.display =\n",
              "        google.colab.kernel.accessAllowed ? 'block' : 'none';\n",
              "    })();\n",
              "  </script>\n",
              "</div>\n",
              "    </div>\n",
              "  </div>\n"
            ]
          },
          "metadata": {},
          "execution_count": 2
        }
      ]
    },
    {
      "cell_type": "code",
      "source": [
        "# Preparing my features and labels for training and validation\n",
        "X = dig_train.drop(columns=['label']).values  # Features (pixel values)\n",
        "y = dig_train['label'].values  # Labels (digits)\n"
      ],
      "metadata": {
        "id": "wdERP_J3t75b"
      },
      "execution_count": null,
      "outputs": []
    },
    {
      "cell_type": "code",
      "source": [
        "# Training and validation split\n",
        "from sklearn.model_selection import train_test_split\n",
        "\n",
        "X_train, X_val, y_train, y_val = train_test_split(X, y, test_size=0.4, random_state=42)\n"
      ],
      "metadata": {
        "id": "InSMSp5A7ja-"
      },
      "execution_count": null,
      "outputs": []
    },
    {
      "cell_type": "markdown",
      "source": [
        "##<font color='cyan'>Baseline like a dummy</font>\n",
        "my base line will always return the most frequent class in the training data.\n",
        "I want to use its accuracy as a measure against other models I will be uisng\n"
      ],
      "metadata": {
        "id": "cKu2U_9TExTH"
      }
    },
    {
      "cell_type": "code",
      "source": [
        "from sklearn.metrics import accuracy_score\n",
        "import numpy as np\n",
        "\n",
        "# Using the most frequent class in the y_train set\n",
        "most_frequent_class = np.bincount(y_train).argmax()\n",
        "\n",
        "# predictions based on the most frequent class\n",
        "baseline_predictions = np.full_like(y_val, fill_value=most_frequent_class)\n",
        "\n",
        "# Calculate accuracy of the baseline predictions\n",
        "baseline_accuracy = accuracy_score(y_val, baseline_predictions)\n",
        "print(f\"Baseline Accuracy: {baseline_accuracy * 100:.2f}%\")\n"
      ],
      "metadata": {
        "colab": {
          "base_uri": "https://localhost:8080/"
        },
        "id": "c3GoCZT4EwzR",
        "outputId": "8446e2f2-be24-4268-be6d-383dc070a539"
      },
      "execution_count": null,
      "outputs": [
        {
          "output_type": "stream",
          "name": "stdout",
          "text": [
            "Baseline Accuracy: 11.02%\n"
          ]
        }
      ]
    },
    {
      "cell_type": "markdown",
      "source": [
        "<font color='cyan'>visuals of the result</font>\n"
      ],
      "metadata": {
        "id": "BvtPD55wm4KY"
      }
    },
    {
      "cell_type": "code",
      "source": [
        "import matplotlib.pyplot as plt\n",
        "\n",
        "# Plotting the baseline accuracy\n",
        "plt.figure(figsize=(6, 4))\n",
        "plt.bar([\"Baseline\"], [baseline_accuracy], color='skyblue')\n",
        "plt.ylabel('Accuracy')\n",
        "plt.title('Baseline Accuracy')\n",
        "plt.ylim(0, 1)  # Limiting y-axis from 0 to 1 for accuracy range\n",
        "plt.grid(axis='y')\n",
        "\n",
        "# Displaying the value on top of each bar\n",
        "for index, value in enumerate([baseline_accuracy]):\n",
        "    plt.text(index, value, f\"{value:.2f}\", ha='center', va='bottom')\n",
        "\n",
        "plt.tight_layout()\n",
        "plt.show()"
      ],
      "metadata": {
        "colab": {
          "base_uri": "https://localhost:8080/",
          "height": 407
        },
        "id": "xKQZTzv9l26I",
        "outputId": "23e9b289-3ad2-46e2-b04d-a5ee5eb4d5d2"
      },
      "execution_count": null,
      "outputs": [
        {
          "output_type": "display_data",
          "data": {
            "text/plain": [
              "<Figure size 600x400 with 1 Axes>"
            ],
            "image/png": "[encoded data removed]"
          },
          "metadata": {}
        }
      ]
    },
    {
      "cell_type": "markdown",
      "source": [
        "<font color='cyan'>we observe the result of the baseline as an accuracy 11%.\n",
        "This is because it is a dummy I established to make flat predictions of the most common classidication</font>"
      ],
      "metadata": {
        "id": "sL7s11T2a3fb"
      }
    },
    {
      "cell_type": "code",
      "source": [
        "#Reshaping the train and validtion for linear model\n",
        "X_train_reshaped = X_train.reshape(-1, 28, 28, 1)\n",
        "X_val_reshaped = X_val.reshape(-1, 28, 28, 1)"
      ],
      "metadata": {
        "id": "w1w3hGfZCjvY"
      },
      "execution_count": null,
      "outputs": []
    },
    {
      "cell_type": "code",
      "source": [],
      "metadata": {
        "id": "ann6VnvKEwiw"
      },
      "execution_count": null,
      "outputs": []
    },
    {
      "cell_type": "markdown",
      "source": [
        "##<font color='cyan'>Linear Model (Single Perceptron)</font>\n"
      ],
      "metadata": {
        "id": "nkEJO7PrmDc9"
      }
    },
    {
      "cell_type": "code",
      "source": [
        "from tensorflow import keras\n",
        "from tensorflow.keras import layers\n",
        "\n",
        "\n",
        "linear_model = keras.Sequential([\n",
        "  layers.InputLayer(input_shape=(28, 28, 1)), #input image shape 28 x 28 = 784\n",
        "  layers.Flatten(), #I am squashing 2d input into 1d of 784 element\n",
        "  layers.Dense(10, activation='softmax') # I am using 10 output neurons because range is 0 - 9\n",
        "])\n"
      ],
      "metadata": {
        "id": "jiMmsX37Sr5Q"
      },
      "execution_count": null,
      "outputs": []
    },
    {
      "cell_type": "markdown",
      "source": [
        "##<font color='cyan'>Fitting and saving the Linear Model in one working pipeline</font>\n"
      ],
      "metadata": {
        "id": "LmiXJcx9HbU1"
      }
    },
    {
      "cell_type": "code",
      "source": [
        "from tensorflow.keras.callbacks import ModelCheckpoint\n",
        "from tensorflow.keras.models import load_model\n",
        "\n",
        "#configuring training process for NN\n",
        "linear_model.compile(optimizer='adam', loss='sparse_categorical_crossentropy', metrics=['accuracy'])\n",
        "\n",
        "# Training the model\n",
        "history = linear_model.fit(X_train_reshaped, y_train, epochs=10, validation_data=(X_val_reshaped, y_val))\n",
        "\n",
        "# Saving the model\n",
        "linear_model.save('linear_model.h5')\n"
      ],
      "metadata": {
        "colab": {
          "base_uri": "https://localhost:8080/"
        },
        "id": "xqqtcED3At1y",
        "outputId": "bc4bf655-4310-484f-83b6-e426c524b099"
      },
      "execution_count": null,
      "outputs": [
        {
          "output_type": "stream",
          "name": "stdout",
          "text": [
            "Epoch 1/10\n",
            "788/788 [==============================] - 3s 3ms/step - loss: 12.3458 - accuracy: 0.8100 - val_loss: 8.0749 - val_accuracy: 0.8508\n",
            "Epoch 2/10\n",
            "788/788 [==============================] - 2s 2ms/step - loss: 6.4527 - accuracy: 0.8763 - val_loss: 6.8230 - val_accuracy: 0.8574\n",
            "Epoch 3/10\n",
            "788/788 [==============================] - 2s 2ms/step - loss: 6.0909 - accuracy: 0.8790 - val_loss: 6.2262 - val_accuracy: 0.8839\n",
            "Epoch 4/10\n",
            "788/788 [==============================] - 3s 3ms/step - loss: 5.3558 - accuracy: 0.8864 - val_loss: 6.5292 - val_accuracy: 0.8770\n",
            "Epoch 5/10\n",
            "788/788 [==============================] - 3s 3ms/step - loss: 5.1424 - accuracy: 0.8903 - val_loss: 6.8165 - val_accuracy: 0.8790\n",
            "Epoch 6/10\n",
            "788/788 [==============================] - 3s 4ms/step - loss: 5.0773 - accuracy: 0.8926 - val_loss: 6.8467 - val_accuracy: 0.8701\n",
            "Epoch 7/10\n",
            "788/788 [==============================] - 2s 3ms/step - loss: 4.9203 - accuracy: 0.8937 - val_loss: 6.2308 - val_accuracy: 0.8862\n",
            "Epoch 8/10\n",
            "788/788 [==============================] - 2s 2ms/step - loss: 4.7672 - accuracy: 0.8969 - val_loss: 6.2724 - val_accuracy: 0.8911\n",
            "Epoch 9/10\n",
            "788/788 [==============================] - 2s 2ms/step - loss: 4.8254 - accuracy: 0.8955 - val_loss: 6.9803 - val_accuracy: 0.8748\n",
            "Epoch 10/10\n",
            "788/788 [==============================] - 2s 2ms/step - loss: 4.6214 - accuracy: 0.9002 - val_loss: 8.3904 - val_accuracy: 0.8574\n"
          ]
        },
        {
          "output_type": "stream",
          "name": "stderr",
          "text": [
            "/usr/local/lib/python3.10/dist-packages/keras/src/engine/training.py:3103: UserWarning: You are saving your model as an HDF5 file via `model.save()`. This file format is considered legacy. We recommend using instead the native Keras format, e.g. `model.save('my_model.keras')`.\n",
            "  saving_api.save_model(\n"
          ]
        }
      ]
    },
    {
      "cell_type": "code",
      "source": [
        "# Loading the model (to validate the saved model)\n",
        "loaded_model = load_model('linear_model.h5')\n",
        "\n",
        "\n",
        "# Evaluate on reshaped validation data\n",
        "val_loss, val_accuracy = loaded_model.evaluate(X_val_reshaped, y_val)\n",
        "print(f\"Validation Accuracy: {val_accuracy * 100:.2f}%\")\n"
      ],
      "metadata": {
        "colab": {
          "base_uri": "https://localhost:8080/"
        },
        "id": "UwuA4tWEBbsw",
        "outputId": "f1f9d3af-65c9-4c11-a17b-3aeaca86b16b"
      },
      "execution_count": null,
      "outputs": [
        {
          "output_type": "stream",
          "name": "stdout",
          "text": [
            "525/525 [==============================] - 2s 3ms/step - loss: 8.3904 - accuracy: 0.8574\n",
            "Validation Accuracy: 85.74%\n"
          ]
        }
      ]
    },
    {
      "cell_type": "markdown",
      "source": [
        "<font color='cyan'>visuals of the result</font>\n"
      ],
      "metadata": {
        "id": "SJ7rA2Fdd46e"
      }
    },
    {
      "cell_type": "code",
      "source": [
        "import matplotlib.pyplot as plt\n",
        "\n",
        "# Plotting training and validation loss\n",
        "plt.figure(figsize=(10, 5))\n",
        "plt.subplot(1, 2, 1)\n",
        "plt.plot(history.history['loss'], label='Training Loss')\n",
        "plt.plot(history.history['val_loss'], label='Validation Loss')\n",
        "plt.xlabel('Epoch')\n",
        "plt.ylabel('Loss')\n",
        "plt.title('Training and Validation Loss for Linear model')\n",
        "plt.legend()\n",
        "\n",
        "# Plotting training and validation accuracy\n",
        "plt.subplot(1, 2, 2)\n",
        "plt.plot(history.history['accuracy'], label='Training Accuracy')\n",
        "plt.plot(history.history['val_accuracy'], label='Validation Accuracy')\n",
        "plt.xlabel('Epoch')\n",
        "plt.ylabel('Accuracy')\n",
        "plt.title('Training and Validation Accuracy for Linear model')\n",
        "plt.legend()\n",
        "\n",
        "plt.tight_layout()\n",
        "plt.show()\n"
      ],
      "metadata": {
        "colab": {
          "base_uri": "https://localhost:8080/",
          "height": 507
        },
        "id": "ttD8K_dbd30x",
        "outputId": "43b6733e-e7b4-4fdd-8f02-2106ce6e90be"
      },
      "execution_count": null,
      "outputs": [
        {
          "output_type": "display_data",
          "data": {
            "text/plain": [
              "<Figure size 1000x500 with 2 Axes>"
            ],
            "image/png": "[encoded data removed]"
          },
          "metadata": {}
        }
      ]
    },
    {
      "cell_type": "markdown",
      "source": [
        "<font color='cyan'>It is seen that with 1 perceptron linear model, accuracy moved from 11% (baseline), to 85%. We can also see that that the validation accuracy was not consistent, which perhaps suggest a linear model isnt the best for this classification case</font>\n"
      ],
      "metadata": {
        "id": "cga92rYvcBge"
      }
    },
    {
      "cell_type": "markdown",
      "source": [
        "##<font color='cyan'>Non-Linear Model</font>"
      ],
      "metadata": {
        "id": "-04LDd8ImOU7"
      }
    },
    {
      "cell_type": "code",
      "source": [
        "non_linear_model = keras.Sequential([\n",
        "  layers.InputLayer(input_shape=(28, 28, 1)),\n",
        "  layers.Flatten(),\n",
        "  layers.Dense(128, activation='relu'), # I have adjusted the linear model to 128 all linked neurons\n",
        "  layers.Dense(10, activation='softmax')  # maintainig 10 output neurons for 0 - 9 classifi ation\n",
        "])\n"
      ],
      "metadata": {
        "id": "g3cW5EkmSr2p"
      },
      "execution_count": null,
      "outputs": []
    },
    {
      "cell_type": "markdown",
      "source": [
        "##<font color='cyan'>Fitting and saving the non-linear Model</font>\n"
      ],
      "metadata": {
        "id": "oYRoASTDL6eR"
      }
    },
    {
      "cell_type": "code",
      "source": [
        "# configuring for training\n",
        "non_linear_model.compile(optimizer='adam', loss='sparse_categorical_crossentropy', metrics=['accuracy'])\n",
        "\n",
        "# Training the non-linear model\n",
        "history_non_linear = non_linear_model.fit(X_train_reshaped, y_train, epochs=10, validation_data=(X_val_reshaped, y_val))\n",
        "\n",
        "# Saving the non-linear model\n",
        "non_linear_model.save('non_linear_model.h5')\n"
      ],
      "metadata": {
        "id": "9yFl6GmfSrzb",
        "colab": {
          "base_uri": "https://localhost:8080/"
        },
        "outputId": "ccd214a7-5aa2-4e59-fcd1-3f1f9665e8f8"
      },
      "execution_count": null,
      "outputs": [
        {
          "output_type": "stream",
          "name": "stdout",
          "text": [
            "Epoch 1/10\n",
            "788/788 [==============================] - 5s 5ms/step - loss: 6.0022 - accuracy: 0.8468 - val_loss: 1.4370 - val_accuracy: 0.8701\n",
            "Epoch 2/10\n",
            "788/788 [==============================] - 3s 4ms/step - loss: 0.8082 - accuracy: 0.8907 - val_loss: 0.6960 - val_accuracy: 0.8764\n",
            "Epoch 3/10\n",
            "788/788 [==============================] - 6s 7ms/step - loss: 0.4284 - accuracy: 0.9121 - val_loss: 0.5840 - val_accuracy: 0.9000\n",
            "Epoch 4/10\n",
            "788/788 [==============================] - 4s 4ms/step - loss: 0.3278 - accuracy: 0.9255 - val_loss: 0.5618 - val_accuracy: 0.9061\n",
            "Epoch 5/10\n",
            "788/788 [==============================] - 3s 4ms/step - loss: 0.2797 - accuracy: 0.9320 - val_loss: 0.5314 - val_accuracy: 0.9163\n",
            "Epoch 6/10\n",
            "788/788 [==============================] - 3s 4ms/step - loss: 0.2783 - accuracy: 0.9367 - val_loss: 0.5226 - val_accuracy: 0.9204\n",
            "Epoch 7/10\n",
            "788/788 [==============================] - 5s 7ms/step - loss: 0.2672 - accuracy: 0.9396 - val_loss: 0.5457 - val_accuracy: 0.9076\n",
            "Epoch 8/10\n",
            "788/788 [==============================] - 4s 4ms/step - loss: 0.2412 - accuracy: 0.9405 - val_loss: 0.4813 - val_accuracy: 0.9190\n",
            "Epoch 9/10\n",
            "788/788 [==============================] - 3s 4ms/step - loss: 0.2142 - accuracy: 0.9466 - val_loss: 0.4646 - val_accuracy: 0.9252\n",
            "Epoch 10/10\n",
            "788/788 [==============================] - 4s 5ms/step - loss: 0.1987 - accuracy: 0.9523 - val_loss: 0.3879 - val_accuracy: 0.9335\n"
          ]
        }
      ]
    },
    {
      "cell_type": "code",
      "source": [
        "# Loading the non-linear model (to validate the saved model)\n",
        "loaded_non_linear_model = load_model('non_linear_model.h5')\n",
        "\n",
        "# Evaluation on validation data\n",
        "val_loss, val_accuracy = loaded_non_linear_model.evaluate(X_val_reshaped, y_val)\n",
        "print(f\"Validation Accuracy: {val_accuracy * 100:.2f}%\")\n"
      ],
      "metadata": {
        "id": "wfEJcktkSrw7",
        "colab": {
          "base_uri": "https://localhost:8080/"
        },
        "outputId": "ba61c29a-5c68-4aaa-d239-d20edc5efd54"
      },
      "execution_count": null,
      "outputs": [
        {
          "output_type": "stream",
          "name": "stdout",
          "text": [
            "525/525 [==============================] - 1s 2ms/step - loss: 0.3879 - accuracy: 0.9335\n",
            "Validation Accuracy: 93.35%\n"
          ]
        }
      ]
    },
    {
      "cell_type": "markdown",
      "source": [
        "<font color='cyan'>visuals of the result</font>\n"
      ],
      "metadata": {
        "id": "U4J211TehMQd"
      }
    },
    {
      "cell_type": "code",
      "source": [
        "# Plotting training and validation loss\n",
        "plt.figure(figsize=(10, 5))\n",
        "plt.subplot(1, 2, 1)\n",
        "plt.plot(history_non_linear.history['loss'], label='Training Loss')\n",
        "plt.plot(history_non_linear.history['val_loss'], label='Validation Loss')\n",
        "plt.xlabel('Epoch')\n",
        "plt.ylabel('Loss')\n",
        "plt.title('Training and Validation Loss for Non-Linear model')\n",
        "plt.legend()\n",
        "\n",
        "# Plotting training and validation accuracy\n",
        "plt.subplot(1, 2, 2)\n",
        "plt.plot(history_non_linear.history['accuracy'], label='Training Accuracy')\n",
        "plt.plot(history_non_linear.history['val_accuracy'], label='Validation Accuracy')\n",
        "plt.xlabel('Epoch')\n",
        "plt.ylabel('Accuracy')\n",
        "plt.title('Training and Validation Accuracy for Non-Linear model')\n",
        "plt.legend()\n",
        "\n",
        "plt.tight_layout()\n",
        "plt.show()\n"
      ],
      "metadata": {
        "colab": {
          "base_uri": "https://localhost:8080/",
          "height": 507
        },
        "id": "7R3iU7gLgwj8",
        "outputId": "abca7779-e9f9-435b-c63c-eb5c88704c76"
      },
      "execution_count": null,
      "outputs": [
        {
          "output_type": "display_data",
          "data": {
            "text/plain": [
              "<Figure size 1000x500 with 2 Axes>"
            ],
            "image/png": "[encoded data removed]"
          },
          "metadata": {}
        }
      ]
    },
    {
      "cell_type": "markdown",
      "source": [
        "<font color='cyan'>We can see the result of the non-linear model shows a significant improvement to the performance at 93% accuracy in contrast to the linear which was at 85%. We can also see some degree of consistency in the epochs accuracy. Fair to say the model improved more per epoch </font>\n"
      ],
      "metadata": {
        "id": "4P42LxtGhaLe"
      }
    },
    {
      "cell_type": "code",
      "source": [
        "# visualization"
      ],
      "metadata": {
        "id": "B9SnAq7GSrt8"
      },
      "execution_count": null,
      "outputs": []
    },
    {
      "cell_type": "markdown",
      "source": [
        "##<font color='cyan'>CNN Model</font>\n"
      ],
      "metadata": {
        "id": "ptlhtxksN5jK"
      }
    },
    {
      "cell_type": "code",
      "source": [
        "# Defining the CNN model\n",
        "cnn_model = keras.Sequential([\n",
        "    layers.InputLayer(input_shape=(28, 28, 1)),\n",
        "    layers.Conv2D(16, 3, padding='same', activation='relu'),\n",
        "    layers.MaxPooling2D(),\n",
        "    layers.Conv2D(32, 3, padding='same', activation='relu'),\n",
        "    layers.MaxPooling2D(),\n",
        "    layers.Conv2D(64, 3, padding='same', activation='relu'),\n",
        "    layers.MaxPooling2D(),\n",
        "    layers.Flatten(),\n",
        "    layers.Dense(128, activation='relu'), #using 128 neurons\n",
        "    layers.Dense(10, activation='softmax')\n",
        "])\n"
      ],
      "metadata": {
        "id": "jXlemPZiSrqr"
      },
      "execution_count": null,
      "outputs": []
    },
    {
      "cell_type": "code",
      "source": [
        "# Configuring the model for training\n",
        "cnn_model.compile(optimizer='adam', loss='sparse_categorical_crossentropy', metrics=['accuracy'])\n",
        "\n",
        "# Training the CNN model\n",
        "history_cnn = cnn_model.fit(X_train_reshaped, y_train, epochs=10, validation_data=(X_val_reshaped, y_val))\n",
        "\n",
        "# Saving the CNN model\n",
        "cnn_model.save('cnn_model.h5')\n"
      ],
      "metadata": {
        "id": "l3uZn0r1Srnj",
        "colab": {
          "base_uri": "https://localhost:8080/"
        },
        "outputId": "13bdc5aa-20ff-4404-fa7c-1c738b225d43"
      },
      "execution_count": null,
      "outputs": [
        {
          "output_type": "stream",
          "name": "stdout",
          "text": [
            "Epoch 1/10\n",
            "788/788 [==============================] - 25s 31ms/step - loss: 0.4810 - accuracy: 0.9077 - val_loss: 0.1186 - val_accuracy: 0.9628\n",
            "Epoch 2/10\n",
            "788/788 [==============================] - 26s 33ms/step - loss: 0.0808 - accuracy: 0.9753 - val_loss: 0.0805 - val_accuracy: 0.9761\n",
            "Epoch 3/10\n",
            "788/788 [==============================] - 24s 30ms/step - loss: 0.0564 - accuracy: 0.9826 - val_loss: 0.0794 - val_accuracy: 0.9761\n",
            "Epoch 4/10\n",
            "788/788 [==============================] - 27s 34ms/step - loss: 0.0490 - accuracy: 0.9836 - val_loss: 0.1364 - val_accuracy: 0.9644\n",
            "Epoch 5/10\n",
            "788/788 [==============================] - 22s 28ms/step - loss: 0.0380 - accuracy: 0.9875 - val_loss: 0.0818 - val_accuracy: 0.9770\n",
            "Epoch 6/10\n",
            "788/788 [==============================] - 24s 31ms/step - loss: 0.0417 - accuracy: 0.9864 - val_loss: 0.0775 - val_accuracy: 0.9784\n",
            "Epoch 7/10\n",
            "788/788 [==============================] - 22s 28ms/step - loss: 0.0318 - accuracy: 0.9898 - val_loss: 0.0939 - val_accuracy: 0.9761\n",
            "Epoch 8/10\n",
            "788/788 [==============================] - 24s 31ms/step - loss: 0.0323 - accuracy: 0.9892 - val_loss: 0.0762 - val_accuracy: 0.9787\n",
            "Epoch 9/10\n",
            "788/788 [==============================] - 24s 30ms/step - loss: 0.0282 - accuracy: 0.9915 - val_loss: 0.0934 - val_accuracy: 0.9800\n",
            "Epoch 10/10\n",
            "788/788 [==============================] - 25s 32ms/step - loss: 0.0309 - accuracy: 0.9898 - val_loss: 0.0689 - val_accuracy: 0.9832\n"
          ]
        }
      ]
    },
    {
      "cell_type": "code",
      "source": [
        "# Load the CNN model (to validate the saved model)\n",
        "loaded_cnn_model = load_model('cnn_model.h5')\n",
        "\n",
        "# Evaluate on validation data\n",
        "val_loss, val_accuracy = loaded_cnn_model.evaluate(X_val_reshaped, y_val)\n",
        "print(f\"Validation Accuracy: {val_accuracy * 100:.2f}%\")"
      ],
      "metadata": {
        "id": "t-BTzUfOSrbU",
        "colab": {
          "base_uri": "https://localhost:8080/"
        },
        "outputId": "6d0b4b66-bc71-442d-825b-392969b469cd"
      },
      "execution_count": null,
      "outputs": [
        {
          "output_type": "stream",
          "name": "stdout",
          "text": [
            "525/525 [==============================] - 4s 8ms/step - loss: 0.0689 - accuracy: 0.9832\n",
            "Validation Accuracy: 98.32%\n"
          ]
        }
      ]
    },
    {
      "cell_type": "markdown",
      "source": [
        "<font color='cyan'>visuals of the result</font>\n"
      ],
      "metadata": {
        "id": "-Ee-qsnsijNt"
      }
    },
    {
      "cell_type": "code",
      "source": [
        "# Plotting training and validation loss\n",
        "plt.figure(figsize=(10, 5))\n",
        "plt.subplot(1, 2, 1)\n",
        "plt.plot(history_cnn.history['loss'], label='Training Loss')\n",
        "plt.plot(history_cnn.history['val_loss'], label='Validation Loss')\n",
        "plt.xlabel('Epoch')\n",
        "plt.ylabel('Loss')\n",
        "plt.title('Training and Validation Loss for CNN model')\n",
        "plt.legend()\n",
        "\n",
        "# Plotting training and validation accuracy\n",
        "plt.subplot(1, 2, 2)\n",
        "plt.plot(history_cnn.history['accuracy'], label='Training Accuracy')\n",
        "plt.plot(history_cnn.history['val_accuracy'], label='Validation Accuracy')\n",
        "plt.xlabel('Epoch')\n",
        "plt.ylabel('Accuracy')\n",
        "plt.title('Training and Validation Accuracy for CNN model')\n",
        "plt.legend()\n",
        "\n",
        "plt.tight_layout()\n",
        "plt.show()\n"
      ],
      "metadata": {
        "colab": {
          "base_uri": "https://localhost:8080/",
          "height": 507
        },
        "id": "77XbpdUain8r",
        "outputId": "c814d9f8-aacd-45d4-efe1-4ce0cf99a879"
      },
      "execution_count": null,
      "outputs": [
        {
          "output_type": "display_data",
          "data": {
            "text/plain": [
              "<Figure size 1000x500 with 2 Axes>"
            ],
            "image/png": "[encoded data removed]"
          },
          "metadata": {}
        }
      ]
    },
    {
      "cell_type": "markdown",
      "source": [
        "<font color='cyan'>We see here that the acuracy of the CNN model is best at 98% at the 10th epoch. this shows our model got better per iteration and wasnt overfitted. This is also an improvement from the accuracy of the non-linear model which was seen as 93%</font>\n"
      ],
      "metadata": {
        "id": "KD01gOUej1Ch"
      }
    },
    {
      "cell_type": "code",
      "source": [],
      "metadata": {
        "id": "YsR2q7ugkWyW"
      },
      "execution_count": null,
      "outputs": []
    },
    {
      "cell_type": "markdown",
      "source": [
        "##<font color='cyan'>Since CNN gave the best result, now we will use it on test dataset</font>\n"
      ],
      "metadata": {
        "id": "fshxvK_9oHja"
      }
    },
    {
      "cell_type": "code",
      "source": [
        "# Reshaping the test data\n",
        "X_test_cnn = dig_test.values.reshape(-1, 28, 28, 1)\n",
        "\n",
        "# Making predictions using the CNN model\n",
        "predictions = cnn_model.predict(X_test_cnn)\n",
        "\n",
        "# Getting the predicted labels (class with highest probability) for each image\n",
        "predicted_labels = np.argmax(predictions, axis=1)\n",
        "\n",
        "# Making a DataFrame with image IDs and predicted labels\n",
        "image_ids = dig_test.index  #Making index into image id\n",
        "result_df = pd.DataFrame({'ID': image_ids, 'Label': predicted_labels})\n",
        "\n",
        "result_df\n"
      ],
      "metadata": {
        "colab": {
          "base_uri": "https://localhost:8080/",
          "height": 441
        },
        "id": "J2xsJapcoWGm",
        "outputId": "943eb677-0753-4341-ed92-0ab2bc53d5e4"
      },
      "execution_count": null,
      "outputs": [
        {
          "output_type": "stream",
          "name": "stdout",
          "text": [
            "875/875 [==============================] - 7s 8ms/step\n"
          ]
        },
        {
          "output_type": "execute_result",
          "data": {
            "text/plain": [
              "          ID  Label\n",
              "0          0      2\n",
              "1          1      0\n",
              "2          2      9\n",
              "3          3      9\n",
              "4          4      3\n",
              "...      ...    ...\n",
              "27995  27995      9\n",
              "27996  27996      7\n",
              "27997  27997      3\n",
              "27998  27998      9\n",
              "27999  27999      2\n",
              "\n",
              "[28000 rows x 2 columns]"
            ],
            "text/html": [
              "\n",
              "  <div id=\"df-f1d551dc-c7a4-4517-a0f4-8f4e5c0d9c91\" class=\"colab-df-container\">\n",
              "    <div>\n",
              "<style scoped>\n",
              "    .dataframe tbody tr th:only-of-type {\n",
              "        vertical-align: middle;\n",
              "    }\n",
              "\n",
              "    .dataframe tbody tr th {\n",
              "        vertical-align: top;\n",
              "    }\n",
              "\n",
              "    .dataframe thead th {\n",
              "        text-align: right;\n",
              "    }\n",
              "</style>\n",
              "<table border=\"1\" class=\"dataframe\">\n",
              "  <thead>\n",
              "    <tr style=\"text-align: right;\">\n",
              "      <th></th>\n",
              "      <th>ID</th>\n",
              "      <th>Label</th>\n",
              "    </tr>\n",
              "  </thead>\n",
              "  <tbody>\n",
              "    <tr>\n",
              "      <th>0</th>\n",
              "      <td>0</td>\n",
              "      <td>2</td>\n",
              "    </tr>\n",
              "    <tr>\n",
              "      <th>1</th>\n",
              "      <td>1</td>\n",
              "      <td>0</td>\n",
              "    </tr>\n",
              "    <tr>\n",
              "      <th>2</th>\n",
              "      <td>2</td>\n",
              "      <td>9</td>\n",
              "    </tr>\n",
              "    <tr>\n",
              "      <th>3</th>\n",
              "      <td>3</td>\n",
              "      <td>9</td>\n",
              "    </tr>\n",
              "    <tr>\n",
              "      <th>4</th>\n",
              "      <td>4</td>\n",
              "      <td>3</td>\n",
              "    </tr>\n",
              "    <tr>\n",
              "      <th>...</th>\n",
              "      <td>...</td>\n",
              "      <td>...</td>\n",
              "    </tr>\n",
              "    <tr>\n",
              "      <th>27995</th>\n",
              "      <td>27995</td>\n",
              "      <td>9</td>\n",
              "    </tr>\n",
              "    <tr>\n",
              "      <th>27996</th>\n",
              "      <td>27996</td>\n",
              "      <td>7</td>\n",
              "    </tr>\n",
              "    <tr>\n",
              "      <th>27997</th>\n",
              "      <td>27997</td>\n",
              "      <td>3</td>\n",
              "    </tr>\n",
              "    <tr>\n",
              "      <th>27998</th>\n",
              "      <td>27998</td>\n",
              "      <td>9</td>\n",
              "    </tr>\n",
              "    <tr>\n",
              "      <th>27999</th>\n",
              "      <td>27999</td>\n",
              "      <td>2</td>\n",
              "    </tr>\n",
              "  </tbody>\n",
              "</table>\n",
              "<p>28000 rows × 2 columns</p>\n",
              "</div>\n",
              "    <div class=\"colab-df-buttons\">\n",
              "\n",
              "  <div class=\"colab-df-container\">\n",
              "    <button class=\"colab-df-convert\" onclick=\"convertToInteractive('df-f1d551dc-c7a4-4517-a0f4-8f4e5c0d9c91')\"\n",
              "            title=\"Convert this dataframe to an interactive table.\"\n",
              "            style=\"display:none;\">\n",
              "\n",
              "  <svg xmlns=\"http://www.w3.org/2000/svg\" height=\"24px\" viewBox=\"0 -960 960 960\">\n",
              "    <path d=\"M120-120v-720h720v720H120Zm60-500h600v-160H180v160Zm220 220h160v-160H400v160Zm0 220h160v-160H400v160ZM180-400h160v-160H180v160Zm440 0h160v-160H620v160ZM180-180h160v-160H180v160Zm440 0h160v-160H620v160Z\"/>\n",
              "  </svg>\n",
              "    </button>\n",
              "\n",
              "  <style>\n",
              "    .colab-df-container {\n",
              "      display:flex;\n",
              "      gap: 12px;\n",
              "    }\n",
              "\n",
              "    .colab-df-convert {\n",
              "      background-color: #E8F0FE;\n",
              "      border: none;\n",
              "      border-radius: 50%;\n",
              "      cursor: pointer;\n",
              "      display: none;\n",
              "      fill: #1967D2;\n",
              "      height: 32px;\n",
              "      padding: 0 0 0 0;\n",
              "      width: 32px;\n",
              "    }\n",
              "\n",
              "    .colab-df-convert:hover {\n",
              "      background-color: #E2EBFA;\n",
              "      box-shadow: 0px 1px 2px rgba(60, 64, 67, 0.3), 0px 1px 3px 1px rgba(60, 64, 67, 0.15);\n",
              "      fill: #174EA6;\n",
              "    }\n",
              "\n",
              "    .colab-df-buttons div {\n",
              "      margin-bottom: 4px;\n",
              "    }\n",
              "\n",
              "    [theme=dark] .colab-df-convert {\n",
              "      background-color: #3B4455;\n",
              "      fill: #D2E3FC;\n",
              "    }\n",
              "\n",
              "    [theme=dark] .colab-df-convert:hover {\n",
              "      background-color: #434B5C;\n",
              "      box-shadow: 0px 1px 3px 1px rgba(0, 0, 0, 0.15);\n",
              "      filter: drop-shadow(0px 1px 2px rgba(0, 0, 0, 0.3));\n",
              "      fill: #FFFFFF;\n",
              "    }\n",
              "  </style>\n",
              "\n",
              "    <script>\n",
              "      const buttonEl =\n",
              "        document.querySelector('#df-f1d551dc-c7a4-4517-a0f4-8f4e5c0d9c91 button.colab-df-convert');\n",
              "      buttonEl.style.display =\n",
              "        google.colab.kernel.accessAllowed ? 'block' : 'none';\n",
              "\n",
              "      async function convertToInteractive(key) {\n",
              "        const element = document.querySelector('#df-f1d551dc-c7a4-4517-a0f4-8f4e5c0d9c91');\n",
              "        const dataTable =\n",
              "          await google.colab.kernel.invokeFunction('convertToInteractive',\n",
              "                                                    [key], {});\n",
              "        if (!dataTable) return;\n",
              "\n",
              "        const docLinkHtml = 'Like what you see? Visit the ' +\n",
              "          '<a target=\"_blank\" href=https://colab.research.google.com/notebooks/data_table.ipynb>data table notebook</a>'\n",
              "          + ' to learn more about interactive tables.';\n",
              "        element.innerHTML = '';\n",
              "        dataTable['output_type'] = 'display_data';\n",
              "        await google.colab.output.renderOutput(dataTable, element);\n",
              "        const docLink = document.createElement('div');\n",
              "        docLink.innerHTML = docLinkHtml;\n",
              "        element.appendChild(docLink);\n",
              "      }\n",
              "    </script>\n",
              "  </div>\n",
              "\n",
              "\n",
              "<div id=\"df-2ec169a3-d1b6-403d-89d2-1c59f47f80ad\">\n",
              "  <button class=\"colab-df-quickchart\" onclick=\"quickchart('df-2ec169a3-d1b6-403d-89d2-1c59f47f80ad')\"\n",
              "            title=\"Suggest charts\"\n",
              "            style=\"display:none;\">\n",
              "\n",
              "<svg xmlns=\"http://www.w3.org/2000/svg\" height=\"24px\"viewBox=\"0 0 24 24\"\n",
              "     width=\"24px\">\n",
              "    <g>\n",
              "        <path d=\"M19 3H5c-1.1 0-2 .9-2 2v14c0 1.1.9 2 2 2h14c1.1 0 2-.9 2-2V5c0-1.1-.9-2-2-2zM9 17H7v-7h2v7zm4 0h-2V7h2v10zm4 0h-2v-4h2v4z\"/>\n",
              "    </g>\n",
              "</svg>\n",
              "  </button>\n",
              "\n",
              "<style>\n",
              "  .colab-df-quickchart {\n",
              "      --bg-color: #E8F0FE;\n",
              "      --fill-color: #1967D2;\n",
              "      --hover-bg-color: #E2EBFA;\n",
              "      --hover-fill-color: #174EA6;\n",
              "      --disabled-fill-color: #AAA;\n",
              "      --disabled-bg-color: #DDD;\n",
              "  }\n",
              "\n",
              "  [theme=dark] .colab-df-quickchart {\n",
              "      --bg-color: #3B4455;\n",
              "      --fill-color: #D2E3FC;\n",
              "      --hover-bg-color: #434B5C;\n",
              "      --hover-fill-color: #FFFFFF;\n",
              "      --disabled-bg-color: #3B4455;\n",
              "      --disabled-fill-color: #666;\n",
              "  }\n",
              "\n",
              "  .colab-df-quickchart {\n",
              "    background-color: var(--bg-color);\n",
              "    border: none;\n",
              "    border-radius: 50%;\n",
              "    cursor: pointer;\n",
              "    display: none;\n",
              "    fill: var(--fill-color);\n",
              "    height: 32px;\n",
              "    padding: 0;\n",
              "    width: 32px;\n",
              "  }\n",
              "\n",
              "  .colab-df-quickchart:hover {\n",
              "    background-color: var(--hover-bg-color);\n",
              "    box-shadow: 0 1px 2px rgba(60, 64, 67, 0.3), 0 1px 3px 1px rgba(60, 64, 67, 0.15);\n",
              "    fill: var(--button-hover-fill-color);\n",
              "  }\n",
              "\n",
              "  .colab-df-quickchart-complete:disabled,\n",
              "  .colab-df-quickchart-complete:disabled:hover {\n",
              "    background-color: var(--disabled-bg-color);\n",
              "    fill: var(--disabled-fill-color);\n",
              "    box-shadow: none;\n",
              "  }\n",
              "\n",
              "  .colab-df-spinner {\n",
              "    border: 2px solid var(--fill-color);\n",
              "    border-color: transparent;\n",
              "    border-bottom-color: var(--fill-color);\n",
              "    animation:\n",
              "      spin 1s steps(1) infinite;\n",
              "  }\n",
              "\n",
              "  @keyframes spin {\n",
              "    0% {\n",
              "      border-color: transparent;\n",
              "      border-bottom-color: var(--fill-color);\n",
              "      border-left-color: var(--fill-color);\n",
              "    }\n",
              "    20% {\n",
              "      border-color: transparent;\n",
              "      border-left-color: var(--fill-color);\n",
              "      border-top-color: var(--fill-color);\n",
              "    }\n",
              "    30% {\n",
              "      border-color: transparent;\n",
              "      border-left-color: var(--fill-color);\n",
              "      border-top-color: var(--fill-color);\n",
              "      border-right-color: var(--fill-color);\n",
              "    }\n",
              "    40% {\n",
              "      border-color: transparent;\n",
              "      border-right-color: var(--fill-color);\n",
              "      border-top-color: var(--fill-color);\n",
              "    }\n",
              "    60% {\n",
              "      border-color: transparent;\n",
              "      border-right-color: var(--fill-color);\n",
              "    }\n",
              "    80% {\n",
              "      border-color: transparent;\n",
              "      border-right-color: var(--fill-color);\n",
              "      border-bottom-color: var(--fill-color);\n",
              "    }\n",
              "    90% {\n",
              "      border-color: transparent;\n",
              "      border-bottom-color: var(--fill-color);\n",
              "    }\n",
              "  }\n",
              "</style>\n",
              "\n",
              "  <script>\n",
              "    async function quickchart(key) {\n",
              "      const quickchartButtonEl =\n",
              "        document.querySelector('#' + key + ' button');\n",
              "      quickchartButtonEl.disabled = true;  // To prevent multiple clicks.\n",
              "      quickchartButtonEl.classList.add('colab-df-spinner');\n",
              "      try {\n",
              "        const charts = await google.colab.kernel.invokeFunction(\n",
              "            'suggestCharts', [key], {});\n",
              "      } catch (error) {\n",
              "        console.error('Error during call to suggestCharts:', error);\n",
              "      }\n",
              "      quickchartButtonEl.classList.remove('colab-df-spinner');\n",
              "      quickchartButtonEl.classList.add('colab-df-quickchart-complete');\n",
              "    }\n",
              "    (() => {\n",
              "      let quickchartButtonEl =\n",
              "        document.querySelector('#df-2ec169a3-d1b6-403d-89d2-1c59f47f80ad button');\n",
              "      quickchartButtonEl.style.display =\n",
              "        google.colab.kernel.accessAllowed ? 'block' : 'none';\n",
              "    })();\n",
              "  </script>\n",
              "</div>\n",
              "    </div>\n",
              "  </div>\n"
            ]
          },
          "metadata": {},
          "execution_count": 23
        }
      ]
    },
    {
      "cell_type": "code",
      "source": [],
      "metadata": {
        "id": "qG5FcUqu3pMf"
      },
      "execution_count": null,
      "outputs": []
    },
    {
      "cell_type": "code",
      "source": [],
      "metadata": {
        "id": "o-XQgPDtTW8h"
      },
      "execution_count": null,
      "outputs": []
    }
  ]
}